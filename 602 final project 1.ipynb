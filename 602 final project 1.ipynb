{
 "cells": [
  {
   "cell_type": "code",
   "execution_count": 1,
   "metadata": {},
   "outputs": [],
   "source": [
    "import gensim\n",
    "import gensim.corpora as corpora\n",
    "from gensim.utils import simple_preprocess\n",
    "\n",
    "import spacy\n",
    "import warnings\n",
    "warnings.filterwarnings(\"ignore\",category=DeprecationWarning)"
   ]
  },
  {
   "cell_type": "code",
   "execution_count": 2,
   "metadata": {},
   "outputs": [
    {
     "name": "stderr",
     "output_type": "stream",
     "text": [
      "[nltk_data] Downloading package stopwords to\n",
      "[nltk_data]     C:\\Users\\ravit\\AppData\\Roaming\\nltk_data...\n",
      "[nltk_data]   Package stopwords is already up-to-date!\n",
      "[nltk_data] Downloading package punkt to\n",
      "[nltk_data]     C:\\Users\\ravit\\AppData\\Roaming\\nltk_data...\n",
      "[nltk_data]   Package punkt is already up-to-date!\n"
     ]
    }
   ],
   "source": [
    "# NLTK Stop words\n",
    "import nltk\n",
    "from nltk.corpus import stopwords\n",
    "nltk.download('stopwords')\n",
    "nltk.download('punkt')\n",
    "stop_words = stopwords.words('english')\n",
    "stop_words.extend(['from', 'subject', 're', 'edu', 'use'])"
   ]
  },
  {
   "cell_type": "code",
   "execution_count": 18,
   "metadata": {},
   "outputs": [
    {
     "data": {
      "text/html": [
       "<div>\n",
       "<style scoped>\n",
       "    .dataframe tbody tr th:only-of-type {\n",
       "        vertical-align: middle;\n",
       "    }\n",
       "\n",
       "    .dataframe tbody tr th {\n",
       "        vertical-align: top;\n",
       "    }\n",
       "\n",
       "    .dataframe thead th {\n",
       "        text-align: right;\n",
       "    }\n",
       "</style>\n",
       "<table border=\"1\" class=\"dataframe\">\n",
       "  <thead>\n",
       "    <tr style=\"text-align: right;\">\n",
       "      <th></th>\n",
       "      <th>asin</th>\n",
       "      <th>name</th>\n",
       "      <th>rating</th>\n",
       "      <th>date</th>\n",
       "      <th>verified</th>\n",
       "      <th>title</th>\n",
       "      <th>body</th>\n",
       "      <th>helpfulVotes</th>\n",
       "    </tr>\n",
       "  </thead>\n",
       "  <tbody>\n",
       "    <tr>\n",
       "      <th>0</th>\n",
       "      <td>B0000SX2UC</td>\n",
       "      <td>Janet</td>\n",
       "      <td>3</td>\n",
       "      <td>October 11, 2005</td>\n",
       "      <td>False</td>\n",
       "      <td>Def not best, but not worst</td>\n",
       "      <td>I had the Samsung A600 for awhile which is abs...</td>\n",
       "      <td>1.0</td>\n",
       "    </tr>\n",
       "    <tr>\n",
       "      <th>1</th>\n",
       "      <td>B0000SX2UC</td>\n",
       "      <td>Luke Wyatt</td>\n",
       "      <td>1</td>\n",
       "      <td>January 7, 2004</td>\n",
       "      <td>False</td>\n",
       "      <td>Text Messaging Doesn't Work</td>\n",
       "      <td>Due to a software issue between Nokia and Spri...</td>\n",
       "      <td>17.0</td>\n",
       "    </tr>\n",
       "    <tr>\n",
       "      <th>2</th>\n",
       "      <td>B0000SX2UC</td>\n",
       "      <td>Brooke</td>\n",
       "      <td>5</td>\n",
       "      <td>December 30, 2003</td>\n",
       "      <td>False</td>\n",
       "      <td>Love This Phone</td>\n",
       "      <td>This is a great, reliable phone. I also purcha...</td>\n",
       "      <td>5.0</td>\n",
       "    </tr>\n",
       "    <tr>\n",
       "      <th>3</th>\n",
       "      <td>B0000SX2UC</td>\n",
       "      <td>amy m. teague</td>\n",
       "      <td>3</td>\n",
       "      <td>March 18, 2004</td>\n",
       "      <td>False</td>\n",
       "      <td>Love the Phone, BUT...!</td>\n",
       "      <td>I love the phone and all, because I really did...</td>\n",
       "      <td>1.0</td>\n",
       "    </tr>\n",
       "    <tr>\n",
       "      <th>4</th>\n",
       "      <td>B0000SX2UC</td>\n",
       "      <td>tristazbimmer</td>\n",
       "      <td>4</td>\n",
       "      <td>August 28, 2005</td>\n",
       "      <td>False</td>\n",
       "      <td>Great phone service and options, lousy case!</td>\n",
       "      <td>The phone has been great for every purpose it ...</td>\n",
       "      <td>1.0</td>\n",
       "    </tr>\n",
       "  </tbody>\n",
       "</table>\n",
       "</div>"
      ],
      "text/plain": [
       "         asin           name  rating               date  verified  \\\n",
       "0  B0000SX2UC          Janet       3   October 11, 2005     False   \n",
       "1  B0000SX2UC     Luke Wyatt       1    January 7, 2004     False   \n",
       "2  B0000SX2UC         Brooke       5  December 30, 2003     False   \n",
       "3  B0000SX2UC  amy m. teague       3     March 18, 2004     False   \n",
       "4  B0000SX2UC  tristazbimmer       4    August 28, 2005     False   \n",
       "\n",
       "                                          title  \\\n",
       "0                   Def not best, but not worst   \n",
       "1                   Text Messaging Doesn't Work   \n",
       "2                               Love This Phone   \n",
       "3                       Love the Phone, BUT...!   \n",
       "4  Great phone service and options, lousy case!   \n",
       "\n",
       "                                                body  helpfulVotes  \n",
       "0  I had the Samsung A600 for awhile which is abs...           1.0  \n",
       "1  Due to a software issue between Nokia and Spri...          17.0  \n",
       "2  This is a great, reliable phone. I also purcha...           5.0  \n",
       "3  I love the phone and all, because I really did...           1.0  \n",
       "4  The phone has been great for every purpose it ...           1.0  "
      ]
     },
     "execution_count": 18,
     "metadata": {},
     "output_type": "execute_result"
    }
   ],
   "source": [
    "import pandas as pd\n",
    "import os\n",
    "data=pd.read_csv(\"20190928-reviews.csv\")\n",
    "data.head()"
   ]
  },
  {
   "cell_type": "code",
   "execution_count": 19,
   "metadata": {},
   "outputs": [
    {
     "data": {
      "text/html": [
       "<div>\n",
       "<style scoped>\n",
       "    .dataframe tbody tr th:only-of-type {\n",
       "        vertical-align: middle;\n",
       "    }\n",
       "\n",
       "    .dataframe tbody tr th {\n",
       "        vertical-align: top;\n",
       "    }\n",
       "\n",
       "    .dataframe thead th {\n",
       "        text-align: right;\n",
       "    }\n",
       "</style>\n",
       "<table border=\"1\" class=\"dataframe\">\n",
       "  <thead>\n",
       "    <tr style=\"text-align: right;\">\n",
       "      <th></th>\n",
       "      <th>rating</th>\n",
       "      <th>title</th>\n",
       "      <th>body</th>\n",
       "    </tr>\n",
       "  </thead>\n",
       "  <tbody>\n",
       "    <tr>\n",
       "      <th>0</th>\n",
       "      <td>3</td>\n",
       "      <td>Def not best, but not worst</td>\n",
       "      <td>I had the Samsung A600 for awhile which is abs...</td>\n",
       "    </tr>\n",
       "    <tr>\n",
       "      <th>1</th>\n",
       "      <td>1</td>\n",
       "      <td>Text Messaging Doesn't Work</td>\n",
       "      <td>Due to a software issue between Nokia and Spri...</td>\n",
       "    </tr>\n",
       "    <tr>\n",
       "      <th>2</th>\n",
       "      <td>5</td>\n",
       "      <td>Love This Phone</td>\n",
       "      <td>This is a great, reliable phone. I also purcha...</td>\n",
       "    </tr>\n",
       "    <tr>\n",
       "      <th>3</th>\n",
       "      <td>3</td>\n",
       "      <td>Love the Phone, BUT...!</td>\n",
       "      <td>I love the phone and all, because I really did...</td>\n",
       "    </tr>\n",
       "    <tr>\n",
       "      <th>4</th>\n",
       "      <td>4</td>\n",
       "      <td>Great phone service and options, lousy case!</td>\n",
       "      <td>The phone has been great for every purpose it ...</td>\n",
       "    </tr>\n",
       "  </tbody>\n",
       "</table>\n",
       "</div>"
      ],
      "text/plain": [
       "   rating                                         title  \\\n",
       "0       3                   Def not best, but not worst   \n",
       "1       1                   Text Messaging Doesn't Work   \n",
       "2       5                               Love This Phone   \n",
       "3       3                       Love the Phone, BUT...!   \n",
       "4       4  Great phone service and options, lousy case!   \n",
       "\n",
       "                                                body  \n",
       "0  I had the Samsung A600 for awhile which is abs...  \n",
       "1  Due to a software issue between Nokia and Spri...  \n",
       "2  This is a great, reliable phone. I also purcha...  \n",
       "3  I love the phone and all, because I really did...  \n",
       "4  The phone has been great for every purpose it ...  "
      ]
     },
     "execution_count": 19,
     "metadata": {},
     "output_type": "execute_result"
    }
   ],
   "source": [
    "data = data.drop(columns=['asin', 'name', 'date','verified','helpfulVotes'], axis=1)\n",
    "data.head()"
   ]
  },
  {
   "cell_type": "code",
   "execution_count": 4,
   "metadata": {},
   "outputs": [],
   "source": [
    "data = data.dropna(axis=0, subset=['body'])"
   ]
  },
  {
   "cell_type": "code",
   "execution_count": 5,
   "metadata": {},
   "outputs": [
    {
     "data": {
      "text/plain": [
       "0"
      ]
     },
     "execution_count": 5,
     "metadata": {},
     "output_type": "execute_result"
    }
   ],
   "source": [
    "data['body'].isnull().sum()"
   ]
  },
  {
   "cell_type": "code",
   "execution_count": 6,
   "metadata": {},
   "outputs": [],
   "source": [
    "data = data.body.values.tolist()"
   ]
  },
  {
   "cell_type": "code",
   "execution_count": 7,
   "metadata": {
    "scrolled": true
   },
   "outputs": [
    {
     "name": "stdout",
     "output_type": "stream",
     "text": [
      "[['had', 'the', 'samsung', 'for', 'awhile', 'which', 'is', 'absolute', 'doo', 'doo', 'you', 'can', 'read', 'my', 'review', 'on', 'it', 'and', 'detect', 'my', 'rage', 'at', 'the', 'stupid', 'thing', 'it', 'finally', 'died', 'on', 'me', 'so', 'used', 'this', 'nokia', 'phone', 'bought', 'in', 'garage', 'sale', 'for', 'wonder', 'she', 'sold', 'it', 'so', 'cheap', 'bad', 'hate', 'the', 'menu', 'it', 'takes', 'forever', 'to', 'get', 'to', 'what', 'you', 'want', 'because', 'you', 'have', 'to', 'scroll', 'endlessly', 'usually', 'phones', 'have', 'numbered', 'categories', 'so', 'can', 'simply', 'press', 'the', 'and', 'get', 'where', 'you', 'want', 'to', 'go', 'it', 'pain', 'to', 'put', 'it', 'on', 'silent', 'or', 'vibrate', 'if', 'you', 're', 'in', 'class', 'and', 'it', 'rings', 'you', 'have', 'to', 'turn', 'it', 'off', 'immediately', 'there', 'no', 'fast', 'way', 'to', 'silence', 'the', 'damn', 'thing', 'always', 'remember', 'to', 'put', 'it', 'on', 'silent', 'learned', 'that', 'the', 'hard', 'way', 'it', 'so', 'true', 'about', 'the', 'case', 'it', 'mission', 'to', 'get', 'off', 'and', 'will', 'break', 'ur', 'nails', 'in', 'the', 'process', 'also', 'you', 'll', 'damage', 'the', 'case', 'each', 'time', 'try', 'for', 'some', 'reason', 'the', 'phone', 'started', 'giving', 'me', 'problems', 'once', 'did', 'succeed', 'in', 'opening', 'it', 'buttons', 'could', 'be', 'bit', 'bigger', 'vibration', 'could', 'be', 'stronger', 'good', 'reception', 'is', 'not', 'too', 'shabby', 'was', 'using', 'it', 'in', 'the', 'elevator', 'which', 'is', 'remarkable', 'feat', 'considering', 'my', 'old', 'phone', 'would', 'lose', 'service', 'by', 'simply', 'putting', 'it', 'in', 'my', 'pocket', 'compared', 'to', 'my', 'old', 'samsung', 'this', 'phone', 'works', 'quite', 'well', 'the', 'ring', 'tones', 'are', 'loud', 'enough', 'to', 'hear', 'and', 'the', 'phone', 'actually', 'charges', 'quickly', 'and', 'has', 'great', 'battery', 'life', 'it', 'doesn', 'heat', 'up', 'like', 'potatoe', 'in', 'the', 'oven', 'either', 'during', 'long', 'phone', 'convos', 'nice', 'bright', 'large', 'screen', 'cute', 'ways', 'to', 'customize', 'it', 'scroll', 'bar', 'can', 'be', 'set', 'to', 'purple', 'pink', 'aqua', 'orange', 'etc', 'overall', 'okay', 'phone', 'it', 'serves', 'its', 'purpose', 'but', 'definitely', 'pales', 'in', 'comparison', 'to', 'these', 'new', 'phones', 'coming', 'out', 'from', 'sprint', 'why', 'get', 'so', 'so', 'when', 'you', 'can', 'get', 'great']]\n"
     ]
    }
   ],
   "source": [
    "def sent_to_words(sentences):\n",
    "    for sentence in sentences:\n",
    "        yield(gensim.utils.simple_preprocess(str(sentence), deacc=True))  # deacc=True removes punctuations\n",
    "\n",
    "data_words = list(sent_to_words(data))\n",
    "\n",
    "print(data_words[:1])"
   ]
  },
  {
   "cell_type": "code",
   "execution_count": 8,
   "metadata": {},
   "outputs": [
    {
     "name": "stdout",
     "output_type": "stream",
     "text": [
      "['had', 'the', 'samsung', 'for', 'awhile', 'which', 'is', 'absolute', 'doo', 'doo', 'you', 'can', 'read', 'my', 'review', 'on', 'it', 'and', 'detect', 'my', 'rage', 'at', 'the', 'stupid', 'thing', 'it', 'finally', 'died', 'on', 'me', 'so', 'used', 'this', 'nokia', 'phone', 'bought', 'in', 'garage', 'sale', 'for', 'wonder', 'she', 'sold', 'it', 'so', 'cheap', 'bad', 'hate', 'the', 'menu', 'it', 'takes', 'forever', 'to', 'get', 'to', 'what', 'you', 'want', 'because', 'you', 'have', 'to', 'scroll', 'endlessly', 'usually', 'phones', 'have', 'numbered', 'categories', 'so', 'can', 'simply', 'press', 'the', 'and', 'get', 'where', 'you', 'want', 'to', 'go', 'it', 'pain', 'to', 'put', 'it', 'on', 'silent', 'or', 'vibrate', 'if', 'you', 're', 'in', 'class', 'and', 'it', 'rings', 'you', 'have', 'to', 'turn', 'it', 'off', 'immediately', 'there', 'no', 'fast', 'way', 'to', 'silence', 'the', 'damn', 'thing', 'always', 'remember', 'to', 'put', 'it', 'on', 'silent', 'learned', 'that', 'the', 'hard', 'way', 'it', 'so', 'true', 'about', 'the', 'case', 'it', 'mission', 'to', 'get', 'off', 'and', 'will', 'break', 'ur', 'nails', 'in', 'the', 'process', 'also', 'you', 'll', 'damage', 'the', 'case', 'each', 'time', 'try', 'for', 'some', 'reason', 'the', 'phone', 'started', 'giving', 'me', 'problems', 'once', 'did', 'succeed', 'in', 'opening', 'it', 'buttons', 'could', 'be', 'bit', 'bigger', 'vibration', 'could', 'be', 'stronger', 'good', 'reception', 'is', 'not', 'too', 'shabby', 'was', 'using', 'it', 'in', 'the', 'elevator', 'which', 'is', 'remarkable', 'feat', 'considering', 'my', 'old', 'phone', 'would', 'lose', 'service', 'by', 'simply', 'putting', 'it', 'in', 'my', 'pocket', 'compared', 'to', 'my', 'old', 'samsung', 'this', 'phone', 'works', 'quite', 'well', 'the', 'ring_tones', 'are', 'loud', 'enough', 'to', 'hear', 'and', 'the', 'phone', 'actually', 'charges', 'quickly', 'and', 'has', 'great', 'battery', 'life', 'it', 'doesn', 'heat', 'up', 'like', 'potatoe', 'in', 'the', 'oven', 'either', 'during', 'long', 'phone', 'convos', 'nice', 'bright', 'large', 'screen', 'cute', 'ways', 'to', 'customize', 'it', 'scroll', 'bar', 'can', 'be', 'set', 'to', 'purple', 'pink', 'aqua', 'orange', 'etc', 'overall', 'okay', 'phone', 'it', 'serves', 'its', 'purpose', 'but', 'definitely', 'pales', 'in', 'comparison', 'to', 'these', 'new', 'phones', 'coming', 'out', 'from', 'sprint', 'why', 'get', 'so', 'so', 'when', 'you', 'can', 'get', 'great']\n"
     ]
    }
   ],
   "source": [
    "bigram = gensim.models.Phrases(data_words, min_count=5, threshold=100) # higher threshold fewer phrases.\n",
    "trigram = gensim.models.Phrases(bigram[data_words], threshold=100)  \n",
    "\n",
    "# Faster way to get a sentence clubbed as a trigram/bigram\n",
    "bigram_mod = gensim.models.phrases.Phraser(bigram)\n",
    "trigram_mod = gensim.models.phrases.Phraser(trigram)\n",
    "\n",
    "# See trigram example\n",
    "print(trigram_mod[bigram_mod[data_words[0]]])"
   ]
  },
  {
   "cell_type": "code",
   "execution_count": 9,
   "metadata": {},
   "outputs": [],
   "source": [
    "def remove_stopwords(texts):\n",
    "    return [[word for word in simple_preprocess(str(doc)) if word not in stop_words] for doc in texts]\n",
    "\n",
    "def make_bigrams(texts):\n",
    "    return [bigram_mod[doc] for doc in texts]\n",
    "\n",
    "def make_trigrams(texts):\n",
    "    return [trigram_mod[bigram_mod[doc]] for doc in texts]\n",
    "\n",
    "def lemmatization(texts, allowed_postags=['NOUN', 'ADJ', 'VERB', 'ADV']):\n",
    "    \"\"\"https://spacy.io/api/annotation\"\"\"\n",
    "    texts_out = []\n",
    "    for sent in texts:\n",
    "        doc = nlp(\" \".join(sent)) \n",
    "        texts_out.append([token.lemma_ for token in doc if token.pos_ in allowed_postags])\n",
    "    return texts_out"
   ]
  },
  {
   "cell_type": "code",
   "execution_count": 10,
   "metadata": {},
   "outputs": [],
   "source": [
    "import en_core_web_sm\n",
    "#nlp = spacy.load('en')\n"
   ]
  },
  {
   "cell_type": "code",
   "execution_count": 11,
   "metadata": {},
   "outputs": [
    {
     "name": "stdout",
     "output_type": "stream",
     "text": [
      "[['awhile', 'absolute', 'read', 'review', 'detect', 'rage', 'stupid', 'thing', 'finally', 'die', 'use', 'phone', 'buy', 'garage', 'sale', 'wonder', 'sell', 'cheap', 'bad', 'hate', 'menu', 'take', 'forever', 'get', 'want', 'scroll', 'endlessly', 'usually', 'phone', 'number', 'category', 'simply', 'press', 'get', 'want', 'go', 'pain', 'put', 'silent', 'vibrate', 'class', 'ring', 'turn', 'immediately', 'fast', 'way', 'silence', 'damn', 'thing', 'always', 'remember', 'put', 'silent', 'learn', 'hard', 'way', 'true', 'case', 'mission', 'get', 'break', 'nail', 'process', 'also', 'damage', 'case', 'time', 'try', 'reason', 'phone', 'start', 'give', 'problem', 'succeed', 'opening', 'button', 'bit', 'big', 'vibration', 'stronger', 'good', 'reception', 'use', 'elevator', 'remarkable', 'feat', 'consider', 'old', 'phone', 'lose', 'service', 'simply', 'put', 'pocket', 'compare', 'old', 'samsung', 'phone', 'work', 'quite', 'well', 'ring_tone', 'loud', 'enough', 'hear', 'phone', 'actually', 'charge', 'quickly', 'great', 'battery', 'life', 'heat', 'long', 'phone', 'convos', 'nice', 'bright', 'large', 'screen', 'cute', 'way', 'customize', 'bar', 'set', 'purple', 'pink', 'aqua', 'overall', 'phone', 'serve', 'purpose', 'definitely', 'pale', 'comparison', 'new', 'phone', 'come', 'get', 'great']]\n"
     ]
    }
   ],
   "source": [
    "# Remove Stop Words\n",
    "data_words_nostops = remove_stopwords(data_words)\n",
    "\n",
    "# Form Bigrams\n",
    "data_words_bigrams = make_bigrams(data_words_nostops)\n",
    "\n",
    "# Initialize spacy 'en' model, keeping only tagger component (for efficiency)\n",
    "# python3 -m spacy download en\n",
    "nlp = en_core_web_sm.load()\n",
    "#nlp = spacy.load('en',parse=True,tag=True, entity=True)\n",
    "#nlp = spacy.load('en', disable=['parser', 'ner'])\n",
    "\n",
    "# Do lemmatization keeping only noun, adj, vb, adv\n",
    "data_lemmatized = lemmatization(data_words_bigrams, allowed_postags=['NOUN', 'ADJ', 'VERB', 'ADV'])\n",
    "\n",
    "print(data_lemmatized[:1])"
   ]
  },
  {
   "cell_type": "code",
   "execution_count": 12,
   "metadata": {
    "scrolled": true
   },
   "outputs": [
    {
     "name": "stdout",
     "output_type": "stream",
     "text": [
      "[[(0, 1), (1, 1), (2, 1), (3, 1), (4, 1), (5, 1), (6, 1), (7, 1), (8, 1), (9, 1), (10, 1), (11, 1), (12, 1), (13, 1), (14, 1), (15, 2), (16, 1), (17, 1), (18, 1), (19, 1), (20, 1), (21, 1), (22, 1), (23, 1), (24, 1), (25, 1), (26, 1), (27, 1), (28, 1), (29, 1), (30, 1), (31, 1), (32, 1), (33, 1), (34, 1), (35, 1), (36, 1), (37, 1), (38, 1), (39, 1), (40, 4), (41, 1), (42, 1), (43, 1), (44, 2), (45, 1), (46, 1), (47, 1), (48, 1), (49, 1), (50, 1), (51, 1), (52, 1), (53, 1), (54, 1), (55, 1), (56, 1), (57, 1), (58, 1), (59, 1), (60, 1), (61, 1), (62, 2), (63, 1), (64, 1), (65, 1), (66, 1), (67, 9), (68, 1), (69, 1), (70, 1), (71, 1), (72, 1), (73, 1), (74, 1), (75, 3), (76, 1), (77, 1), (78, 1), (79, 1), (80, 1), (81, 1), (82, 1), (83, 1), (84, 1), (85, 1), (86, 1), (87, 1), (88, 1), (89, 1), (90, 1), (91, 1), (92, 1), (93, 1), (94, 1), (95, 1), (96, 2), (97, 2), (98, 1), (99, 1), (100, 1), (101, 1), (102, 1), (103, 2), (104, 1), (105, 1), (106, 1), (107, 1), (108, 2), (109, 1), (110, 1), (111, 1), (112, 2), (113, 3), (114, 1), (115, 1), (116, 1)]]\n"
     ]
    }
   ],
   "source": [
    "id2word = corpora.Dictionary(data_lemmatized)\n",
    "\n",
    "# Create Corpus\n",
    "texts = data_lemmatized\n",
    "\n",
    "# Term Document Frequency\n",
    "corpus = [id2word.doc2bow(text) for text in texts]\n",
    "\n",
    "# View\n",
    "print(corpus[:1])"
   ]
  },
  {
   "cell_type": "code",
   "execution_count": 13,
   "metadata": {
    "scrolled": true
   },
   "outputs": [
    {
     "data": {
      "text/plain": [
       "'absolute'"
      ]
     },
     "execution_count": 13,
     "metadata": {},
     "output_type": "execute_result"
    }
   ],
   "source": [
    "id2word[0]"
   ]
  },
  {
   "cell_type": "code",
   "execution_count": 14,
   "metadata": {
    "scrolled": true
   },
   "outputs": [
    {
     "data": {
      "text/plain": [
       "[[('absolute', 1),\n",
       "  ('actually', 1),\n",
       "  ('also', 1),\n",
       "  ('always', 1),\n",
       "  ('aqua', 1),\n",
       "  ('awhile', 1),\n",
       "  ('bad', 1),\n",
       "  ('bar', 1),\n",
       "  ('battery', 1),\n",
       "  ('big', 1),\n",
       "  ('bit', 1),\n",
       "  ('break', 1),\n",
       "  ('bright', 1),\n",
       "  ('button', 1),\n",
       "  ('buy', 1),\n",
       "  ('case', 2),\n",
       "  ('category', 1),\n",
       "  ('charge', 1),\n",
       "  ('cheap', 1),\n",
       "  ('class', 1),\n",
       "  ('come', 1),\n",
       "  ('compare', 1),\n",
       "  ('comparison', 1),\n",
       "  ('consider', 1),\n",
       "  ('convos', 1),\n",
       "  ('customize', 1),\n",
       "  ('cute', 1),\n",
       "  ('damage', 1),\n",
       "  ('damn', 1),\n",
       "  ('definitely', 1),\n",
       "  ('detect', 1),\n",
       "  ('die', 1),\n",
       "  ('elevator', 1),\n",
       "  ('endlessly', 1),\n",
       "  ('enough', 1),\n",
       "  ('fast', 1),\n",
       "  ('feat', 1),\n",
       "  ('finally', 1),\n",
       "  ('forever', 1),\n",
       "  ('garage', 1),\n",
       "  ('get', 4),\n",
       "  ('give', 1),\n",
       "  ('go', 1),\n",
       "  ('good', 1),\n",
       "  ('great', 2),\n",
       "  ('hard', 1),\n",
       "  ('hate', 1),\n",
       "  ('hear', 1),\n",
       "  ('heat', 1),\n",
       "  ('immediately', 1),\n",
       "  ('large', 1),\n",
       "  ('learn', 1),\n",
       "  ('life', 1),\n",
       "  ('long', 1),\n",
       "  ('lose', 1),\n",
       "  ('loud', 1),\n",
       "  ('menu', 1),\n",
       "  ('mission', 1),\n",
       "  ('nail', 1),\n",
       "  ('new', 1),\n",
       "  ('nice', 1),\n",
       "  ('number', 1),\n",
       "  ('old', 2),\n",
       "  ('opening', 1),\n",
       "  ('overall', 1),\n",
       "  ('pain', 1),\n",
       "  ('pale', 1),\n",
       "  ('phone', 9),\n",
       "  ('pink', 1),\n",
       "  ('pocket', 1),\n",
       "  ('press', 1),\n",
       "  ('problem', 1),\n",
       "  ('process', 1),\n",
       "  ('purple', 1),\n",
       "  ('purpose', 1),\n",
       "  ('put', 3),\n",
       "  ('quickly', 1),\n",
       "  ('quite', 1),\n",
       "  ('rage', 1),\n",
       "  ('read', 1),\n",
       "  ('reason', 1),\n",
       "  ('reception', 1),\n",
       "  ('remarkable', 1),\n",
       "  ('remember', 1),\n",
       "  ('review', 1),\n",
       "  ('ring', 1),\n",
       "  ('ring_tone', 1),\n",
       "  ('sale', 1),\n",
       "  ('samsung', 1),\n",
       "  ('screen', 1),\n",
       "  ('scroll', 1),\n",
       "  ('sell', 1),\n",
       "  ('serve', 1),\n",
       "  ('service', 1),\n",
       "  ('set', 1),\n",
       "  ('silence', 1),\n",
       "  ('silent', 2),\n",
       "  ('simply', 2),\n",
       "  ('start', 1),\n",
       "  ('stronger', 1),\n",
       "  ('stupid', 1),\n",
       "  ('succeed', 1),\n",
       "  ('take', 1),\n",
       "  ('thing', 2),\n",
       "  ('time', 1),\n",
       "  ('true', 1),\n",
       "  ('try', 1),\n",
       "  ('turn', 1),\n",
       "  ('use', 2),\n",
       "  ('usually', 1),\n",
       "  ('vibrate', 1),\n",
       "  ('vibration', 1),\n",
       "  ('want', 2),\n",
       "  ('way', 3),\n",
       "  ('well', 1),\n",
       "  ('wonder', 1),\n",
       "  ('work', 1)]]"
      ]
     },
     "execution_count": 14,
     "metadata": {},
     "output_type": "execute_result"
    }
   ],
   "source": [
    "[[(id2word[id], freq) for id, freq in cp] for cp in corpus[:1]]"
   ]
  },
  {
   "cell_type": "code",
   "execution_count": 15,
   "metadata": {},
   "outputs": [],
   "source": [
    "lda_model = gensim.models.ldamodel.LdaModel(corpus=corpus,\n",
    "                                           id2word=id2word,\n",
    "                                           num_topics=5, \n",
    "                                           random_state=100,\n",
    "                                           update_every=1,\n",
    "                                           chunksize=100,\n",
    "                                           passes=10,\n",
    "                                           alpha='auto',\n",
    "                                           per_word_topics=True)"
   ]
  },
  {
   "cell_type": "code",
   "execution_count": 16,
   "metadata": {
    "scrolled": true
   },
   "outputs": [
    {
     "name": "stdout",
     "output_type": "stream",
     "text": [
      "[(0, '0.171*\"phone\" + 0.034*\"work\" + 0.027*\"get\" + 0.020*\"buy\" + 0.017*\"come\" + 0.016*\"go\" + 0.014*\"new\" + 0.013*\"charge\" + 0.013*\"day\" + 0.011*\"time\"'), (1, '0.075*\"app\" + 0.048*\"device\" + 0.037*\"support\" + 0.028*\"software\" + 0.027*\"storage\" + 0.027*\"option\" + 0.024*\"datum\" + 0.017*\"usb\" + 0.016*\"compatible\" + 0.013*\"available\"'), (2, '0.040*\"good\" + 0.036*\"great\" + 0.029*\"screen\" + 0.028*\"camera\" + 0.023*\"battery\" + 0.020*\"price\" + 0.017*\"love\" + 0.016*\"well\" + 0.015*\"really\" + 0.014*\"fast\"'), (3, '0.060*\"product\" + 0.047*\"awesome\" + 0.045*\"performance\" + 0.039*\"hand\" + 0.038*\"flagship\" + 0.038*\"moto\" + 0.034*\"include\" + 0.029*\"quick\" + 0.018*\"market\" + 0.014*\"item\"'), (4, '0.041*\"call\" + 0.026*\"try\" + 0.021*\"return\" + 0.020*\"receive\" + 0.018*\"unlock\" + 0.018*\"turn\" + 0.017*\"service\" + 0.016*\"make\" + 0.015*\"set\" + 0.015*\"network\"')]\n"
     ]
    }
   ],
   "source": [
    "print(lda_model.print_topics())\n",
    "doc_lda = lda_model[corpus]"
   ]
  },
  {
   "cell_type": "markdown",
   "metadata": {},
   "source": [
    "## Coherence of the model"
   ]
  },
  {
   "cell_type": "code",
   "execution_count": 17,
   "metadata": {},
   "outputs": [
    {
     "name": "stdout",
     "output_type": "stream",
     "text": [
      "\n",
      "Coherence Score:  0.4292921598599338\n"
     ]
    }
   ],
   "source": [
    "from gensim.models import CoherenceModel\n",
    "# Compute Coherence Score\n",
    "coherence_model_lda = CoherenceModel(model=lda_model, texts=data_lemmatized, dictionary=id2word, coherence='c_v')\n",
    "coherence_lda = coherence_model_lda.get_coherence()\n",
    "print('\\nCoherence Score: ', coherence_lda)"
   ]
  },
  {
   "cell_type": "code",
   "execution_count": 1,
   "metadata": {},
   "outputs": [],
   "source": [
    "import pandas as pd\n",
    "import numpy as np\n",
    "import re\n",
    "import scipy as sp\n",
    "import sklearn\n",
    "import sys\n",
    "from nltk.corpus import stopwords\n",
    "from nltk.tokenize import word_tokenize\n",
    "#from gensim.models import ldamodel\n",
    "#import gensim.corpora;\n",
    "from sklearn.feature_extraction.text import CountVectorizer, TfidfVectorizer\n",
    "from sklearn.decomposition import NMF, LatentDirichletAllocation, PCA\n",
    "from sklearn import datasets\n",
    "from sklearn.preprocessing import normalize\n",
    "import pickle"
   ]
  },
  {
   "cell_type": "code",
   "execution_count": 2,
   "metadata": {},
   "outputs": [
    {
     "data": {
      "text/html": [
       "<div>\n",
       "<style scoped>\n",
       "    .dataframe tbody tr th:only-of-type {\n",
       "        vertical-align: middle;\n",
       "    }\n",
       "\n",
       "    .dataframe tbody tr th {\n",
       "        vertical-align: top;\n",
       "    }\n",
       "\n",
       "    .dataframe thead th {\n",
       "        text-align: right;\n",
       "    }\n",
       "</style>\n",
       "<table border=\"1\" class=\"dataframe\">\n",
       "  <thead>\n",
       "    <tr style=\"text-align: right;\">\n",
       "      <th></th>\n",
       "      <th>asin</th>\n",
       "      <th>name</th>\n",
       "      <th>rating</th>\n",
       "      <th>date</th>\n",
       "      <th>verified</th>\n",
       "      <th>title</th>\n",
       "      <th>body</th>\n",
       "      <th>helpfulVotes</th>\n",
       "    </tr>\n",
       "  </thead>\n",
       "  <tbody>\n",
       "    <tr>\n",
       "      <th>0</th>\n",
       "      <td>B0000SX2UC</td>\n",
       "      <td>Janet</td>\n",
       "      <td>3</td>\n",
       "      <td>October 11, 2005</td>\n",
       "      <td>False</td>\n",
       "      <td>Def not best, but not worst</td>\n",
       "      <td>I had the Samsung A600 for awhile which is abs...</td>\n",
       "      <td>1.0</td>\n",
       "    </tr>\n",
       "    <tr>\n",
       "      <th>1</th>\n",
       "      <td>B0000SX2UC</td>\n",
       "      <td>Luke Wyatt</td>\n",
       "      <td>1</td>\n",
       "      <td>January 7, 2004</td>\n",
       "      <td>False</td>\n",
       "      <td>Text Messaging Doesn't Work</td>\n",
       "      <td>Due to a software issue between Nokia and Spri...</td>\n",
       "      <td>17.0</td>\n",
       "    </tr>\n",
       "    <tr>\n",
       "      <th>2</th>\n",
       "      <td>B0000SX2UC</td>\n",
       "      <td>Brooke</td>\n",
       "      <td>5</td>\n",
       "      <td>December 30, 2003</td>\n",
       "      <td>False</td>\n",
       "      <td>Love This Phone</td>\n",
       "      <td>This is a great, reliable phone. I also purcha...</td>\n",
       "      <td>5.0</td>\n",
       "    </tr>\n",
       "    <tr>\n",
       "      <th>3</th>\n",
       "      <td>B0000SX2UC</td>\n",
       "      <td>amy m. teague</td>\n",
       "      <td>3</td>\n",
       "      <td>March 18, 2004</td>\n",
       "      <td>False</td>\n",
       "      <td>Love the Phone, BUT...!</td>\n",
       "      <td>I love the phone and all, because I really did...</td>\n",
       "      <td>1.0</td>\n",
       "    </tr>\n",
       "    <tr>\n",
       "      <th>4</th>\n",
       "      <td>B0000SX2UC</td>\n",
       "      <td>tristazbimmer</td>\n",
       "      <td>4</td>\n",
       "      <td>August 28, 2005</td>\n",
       "      <td>False</td>\n",
       "      <td>Great phone service and options, lousy case!</td>\n",
       "      <td>The phone has been great for every purpose it ...</td>\n",
       "      <td>1.0</td>\n",
       "    </tr>\n",
       "  </tbody>\n",
       "</table>\n",
       "</div>"
      ],
      "text/plain": [
       "         asin           name  rating               date  verified  \\\n",
       "0  B0000SX2UC          Janet       3   October 11, 2005     False   \n",
       "1  B0000SX2UC     Luke Wyatt       1    January 7, 2004     False   \n",
       "2  B0000SX2UC         Brooke       5  December 30, 2003     False   \n",
       "3  B0000SX2UC  amy m. teague       3     March 18, 2004     False   \n",
       "4  B0000SX2UC  tristazbimmer       4    August 28, 2005     False   \n",
       "\n",
       "                                          title  \\\n",
       "0                   Def not best, but not worst   \n",
       "1                   Text Messaging Doesn't Work   \n",
       "2                               Love This Phone   \n",
       "3                       Love the Phone, BUT...!   \n",
       "4  Great phone service and options, lousy case!   \n",
       "\n",
       "                                                body  helpfulVotes  \n",
       "0  I had the Samsung A600 for awhile which is abs...           1.0  \n",
       "1  Due to a software issue between Nokia and Spri...          17.0  \n",
       "2  This is a great, reliable phone. I also purcha...           5.0  \n",
       "3  I love the phone and all, because I really did...           1.0  \n",
       "4  The phone has been great for every purpose it ...           1.0  "
      ]
     },
     "execution_count": 2,
     "metadata": {},
     "output_type": "execute_result"
    }
   ],
   "source": [
    "import pandas as pd\n",
    "import os\n",
    "data=pd.read_csv(\"20190928-reviews.csv\")\n",
    "data.head()"
   ]
  },
  {
   "cell_type": "code",
   "execution_count": 3,
   "metadata": {},
   "outputs": [
    {
     "data": {
      "text/html": [
       "<div>\n",
       "<style scoped>\n",
       "    .dataframe tbody tr th:only-of-type {\n",
       "        vertical-align: middle;\n",
       "    }\n",
       "\n",
       "    .dataframe tbody tr th {\n",
       "        vertical-align: top;\n",
       "    }\n",
       "\n",
       "    .dataframe thead th {\n",
       "        text-align: right;\n",
       "    }\n",
       "</style>\n",
       "<table border=\"1\" class=\"dataframe\">\n",
       "  <thead>\n",
       "    <tr style=\"text-align: right;\">\n",
       "      <th></th>\n",
       "      <th>rating</th>\n",
       "      <th>title</th>\n",
       "      <th>body</th>\n",
       "    </tr>\n",
       "  </thead>\n",
       "  <tbody>\n",
       "    <tr>\n",
       "      <th>0</th>\n",
       "      <td>3</td>\n",
       "      <td>Def not best, but not worst</td>\n",
       "      <td>I had the Samsung A600 for awhile which is abs...</td>\n",
       "    </tr>\n",
       "    <tr>\n",
       "      <th>1</th>\n",
       "      <td>1</td>\n",
       "      <td>Text Messaging Doesn't Work</td>\n",
       "      <td>Due to a software issue between Nokia and Spri...</td>\n",
       "    </tr>\n",
       "    <tr>\n",
       "      <th>2</th>\n",
       "      <td>5</td>\n",
       "      <td>Love This Phone</td>\n",
       "      <td>This is a great, reliable phone. I also purcha...</td>\n",
       "    </tr>\n",
       "    <tr>\n",
       "      <th>3</th>\n",
       "      <td>3</td>\n",
       "      <td>Love the Phone, BUT...!</td>\n",
       "      <td>I love the phone and all, because I really did...</td>\n",
       "    </tr>\n",
       "    <tr>\n",
       "      <th>4</th>\n",
       "      <td>4</td>\n",
       "      <td>Great phone service and options, lousy case!</td>\n",
       "      <td>The phone has been great for every purpose it ...</td>\n",
       "    </tr>\n",
       "  </tbody>\n",
       "</table>\n",
       "</div>"
      ],
      "text/plain": [
       "   rating                                         title  \\\n",
       "0       3                   Def not best, but not worst   \n",
       "1       1                   Text Messaging Doesn't Work   \n",
       "2       5                               Love This Phone   \n",
       "3       3                       Love the Phone, BUT...!   \n",
       "4       4  Great phone service and options, lousy case!   \n",
       "\n",
       "                                                body  \n",
       "0  I had the Samsung A600 for awhile which is abs...  \n",
       "1  Due to a software issue between Nokia and Spri...  \n",
       "2  This is a great, reliable phone. I also purcha...  \n",
       "3  I love the phone and all, because I really did...  \n",
       "4  The phone has been great for every purpose it ...  "
      ]
     },
     "execution_count": 3,
     "metadata": {},
     "output_type": "execute_result"
    }
   ],
   "source": [
    "data = data.drop(columns=['asin', 'name', 'date','verified','helpfulVotes'], axis=1)\n",
    "data.head()"
   ]
  },
  {
   "cell_type": "code",
   "execution_count": 4,
   "metadata": {},
   "outputs": [],
   "source": [
    "data = data.dropna(axis=0, subset=['body'])"
   ]
  },
  {
   "cell_type": "code",
   "execution_count": 5,
   "metadata": {},
   "outputs": [],
   "source": [
    "def top_words(model, feature_names, n_top_words):\n",
    "    for topic_idx, topic in enumerate(model.components_):\n",
    "        message = \"Topic #%d: \" % topic_idx\n",
    "        message += \" \".join([feature_names[i]\n",
    "                             for i in topic.argsort()[:-n_top_words - 1:-1]])\n",
    "        print(message)\n",
    "    print()"
   ]
  },
  {
   "cell_type": "markdown",
   "metadata": {},
   "source": [
    "## LSA"
   ]
  },
  {
   "cell_type": "code",
   "execution_count": 9,
   "metadata": {},
   "outputs": [],
   "source": [
    "tf_idf = TfidfVectorizer(stop_words='english', max_features=1000)\n",
    "data_tf_idf = tf_idf.fit_transform(data.body)\n",
    "nmf = NMF(n_components=5, random_state=1,\n",
    "          alpha=.1, l1_ratio=.5)\n",
    "nmf.fit(data_tf_idf)\n",
    "nmf_data=nmf.transform(data_tf_idf)"
   ]
  },
  {
   "cell_type": "code",
   "execution_count": 10,
   "metadata": {},
   "outputs": [
    {
     "name": "stdout",
     "output_type": "stream",
     "text": [
      "Topic #0: phone battery screen use work just nice camera life best\n",
      "Topic #1: good product price far quality condition really phone battery value\n",
      "Topic #2: great phone price works product condition fast value deal far\n",
      "Topic #3: love phone absolutely new thank note far amazing awesome fast\n",
      "Topic #4: works new like brand perfect looks condition came excellent just\n",
      "\n"
     ]
    }
   ],
   "source": [
    "top_words(nmf, tf_idf.get_feature_names(), 10)"
   ]
  },
  {
   "cell_type": "markdown",
   "metadata": {},
   "source": [
    "## PLSA"
   ]
  },
  {
   "cell_type": "code",
   "execution_count": 20,
   "metadata": {},
   "outputs": [],
   "source": [
    "tf_idf = TfidfVectorizer(stop_words='english', max_features=1000)\n",
    "data_tf_idf = tf_idf.fit_transform(data.body)\n",
    "nmf = NMF(n_components=5, random_state=1, beta_loss='kullback-leibler',\n",
    "          solver='mu', alpha=.1, l1_ratio=.5)\n",
    "nmf_data=nmf.fit(data_tf_idf)"
   ]
  },
  {
   "cell_type": "code",
   "execution_count": 21,
   "metadata": {},
   "outputs": [
    {
     "name": "stdout",
     "output_type": "stream",
     "text": [
      "Topic #0: phone screen use work battery just time camera phones samsung\n",
      "Topic #1: good battery far quality life really price bad pretty value\n",
      "Topic #2: great works product price value condition far shipping deal shape\n",
      "Topic #3: love thank great absolutely price far thanks color learning value\n",
      "Topic #4: new works like perfect excellent came looks condition brand excelente\n",
      "\n"
     ]
    }
   ],
   "source": [
    "top_words(nmf, tf_idf.get_feature_names(), 10)"
   ]
  },
  {
   "cell_type": "markdown",
   "metadata": {},
   "source": [
    "## LDA"
   ]
  },
  {
   "cell_type": "code",
   "execution_count": 22,
   "metadata": {},
   "outputs": [],
   "source": [
    "count = CountVectorizer(stop_words='english', max_features=1000)\n",
    "data_count = count.fit_transform(data.body)\n",
    "lda = LatentDirichletAllocation(n_components=5, max_iter=5, \n",
    "                                learning_method='online', random_state=1)\n",
    "lda_data=lda.fit_transform(data_count)"
   ]
  },
  {
   "cell_type": "code",
   "execution_count": 23,
   "metadata": {},
   "outputs": [
    {
     "name": "stdout",
     "output_type": "stream",
     "text": [
      "Topic #0: phone new like came love charger brand perfect refurbished box\n",
      "Topic #1: android product google issue device el software version samsung nokia\n",
      "Topic #2: phone screen camera battery like use quality phones just life\n",
      "Topic #3: phone work sim card unlocked did verizon just use mobile\n",
      "Topic #4: great phone good works price far battery fast happy condition\n",
      "\n"
     ]
    }
   ],
   "source": [
    "top_words(lda, count.get_feature_names(), 10)"
   ]
  },
  {
   "cell_type": "code",
   "execution_count": null,
   "metadata": {},
   "outputs": [],
   "source": []
  }
 ],
 "metadata": {
  "kernelspec": {
   "display_name": "Python 3",
   "language": "python",
   "name": "python3"
  },
  "language_info": {
   "codemirror_mode": {
    "name": "ipython",
    "version": 3
   },
   "file_extension": ".py",
   "mimetype": "text/x-python",
   "name": "python",
   "nbconvert_exporter": "python",
   "pygments_lexer": "ipython3",
   "version": "3.7.3"
  }
 },
 "nbformat": 4,
 "nbformat_minor": 2
}
